{
 "cells": [
  {
   "cell_type": "code",
   "execution_count": 1,
   "id": "d6130b45",
   "metadata": {},
   "outputs": [
    {
     "name": "stdout",
     "output_type": "stream",
     "text": [
      "Collecting scikit-learn-intelex\n",
      "  Downloading scikit_learn_intelex-2025.8.0-py312-none-win_amd64.whl.metadata (11 kB)\n",
      "Collecting daal==2025.8.0 (from scikit-learn-intelex)\n",
      "  Downloading daal-2025.8.0-py2.py3-none-win_amd64.whl.metadata (1.1 kB)\n",
      "Requirement already satisfied: numpy>=1.19 in c:\\users\\yousu\\anaconda3\\lib\\site-packages (from scikit-learn-intelex) (1.26.4)\n",
      "Requirement already satisfied: scikit-learn>=0.22 in c:\\users\\yousu\\anaconda3\\lib\\site-packages (from scikit-learn-intelex) (1.5.1)\n",
      "Collecting tbb==2022.* (from daal==2025.8.0->scikit-learn-intelex)\n",
      "  Downloading tbb-2022.2.0-py3-none-win_amd64.whl.metadata (1.1 kB)\n",
      "Collecting tcmlib==1.* (from tbb==2022.*->daal==2025.8.0->scikit-learn-intelex)\n",
      "  Downloading tcmlib-1.4.0-py2.py3-none-win_amd64.whl.metadata (1.0 kB)\n",
      "Requirement already satisfied: scipy>=1.6.0 in c:\\users\\yousu\\anaconda3\\lib\\site-packages (from scikit-learn>=0.22->scikit-learn-intelex) (1.13.1)\n",
      "Requirement already satisfied: joblib>=1.2.0 in c:\\users\\yousu\\anaconda3\\lib\\site-packages (from scikit-learn>=0.22->scikit-learn-intelex) (1.4.2)\n",
      "Requirement already satisfied: threadpoolctl>=3.1.0 in c:\\users\\yousu\\anaconda3\\lib\\site-packages (from scikit-learn>=0.22->scikit-learn-intelex) (3.5.0)\n",
      "Downloading scikit_learn_intelex-2025.8.0-py312-none-win_amd64.whl (3.2 MB)\n",
      "   ---------------------------------------- 0.0/3.2 MB ? eta -:--:--\n",
      "   ---------------------------------------- 3.2/3.2 MB 31.1 MB/s eta 0:00:00\n",
      "Downloading daal-2025.8.0-py2.py3-none-win_amd64.whl (82.2 MB)\n",
      "   ---------------------------------------- 0.0/82.2 MB ? eta -:--:--\n",
      "   - -------------------------------------- 3.9/82.2 MB 19.6 MB/s eta 0:00:04\n",
      "   --- ------------------------------------ 6.3/82.2 MB 24.1 MB/s eta 0:00:04\n",
      "   --- ------------------------------------ 6.3/82.2 MB 24.1 MB/s eta 0:00:04\n",
      "   --- ------------------------------------ 6.3/82.2 MB 24.1 MB/s eta 0:00:04\n",
      "   --- ------------------------------------ 6.3/82.2 MB 24.1 MB/s eta 0:00:04\n",
      "   --- ------------------------------------ 6.3/82.2 MB 24.1 MB/s eta 0:00:04\n",
      "   --- ------------------------------------ 6.3/82.2 MB 24.1 MB/s eta 0:00:04\n",
      "   --- ------------------------------------ 6.3/82.2 MB 24.1 MB/s eta 0:00:04\n",
      "   --- ------------------------------------ 6.3/82.2 MB 24.1 MB/s eta 0:00:04\n",
      "   --- ------------------------------------ 6.3/82.2 MB 24.1 MB/s eta 0:00:04\n",
      "   --- ------------------------------------ 6.8/82.2 MB 3.0 MB/s eta 0:00:26\n",
      "   ------ --------------------------------- 13.9/82.2 MB 5.6 MB/s eta 0:00:13\n",
      "   --------- ------------------------------ 19.7/82.2 MB 7.4 MB/s eta 0:00:09\n",
      "   ------------ --------------------------- 25.2/82.2 MB 8.8 MB/s eta 0:00:07\n",
      "   --------------- ------------------------ 31.2/82.2 MB 10.1 MB/s eta 0:00:06\n",
      "   ---------------- ----------------------- 33.6/82.2 MB 10.7 MB/s eta 0:00:05\n",
      "   ------------------- -------------------- 39.3/82.2 MB 11.2 MB/s eta 0:00:04\n",
      "   ---------------------- ----------------- 46.4/82.2 MB 12.6 MB/s eta 0:00:03\n",
      "   ----------------------- ---------------- 49.3/82.2 MB 13.0 MB/s eta 0:00:03\n",
      "   ----------------------- ---------------- 49.3/82.2 MB 13.0 MB/s eta 0:00:03\n",
      "   ----------------------- ---------------- 49.3/82.2 MB 13.0 MB/s eta 0:00:03\n",
      "   ----------------------- ---------------- 49.3/82.2 MB 13.0 MB/s eta 0:00:03\n",
      "   ------------------------- -------------- 51.6/82.2 MB 10.9 MB/s eta 0:00:03\n",
      "   ---------------------------- ----------- 58.5/82.2 MB 11.8 MB/s eta 0:00:03\n",
      "   -------------------------------- ------- 65.8/82.2 MB 12.8 MB/s eta 0:00:02\n",
      "   --------------------------------- ------ 68.2/82.2 MB 12.9 MB/s eta 0:00:02\n",
      "   ---------------------------------- ----- 71.8/82.2 MB 13.0 MB/s eta 0:00:01\n",
      "   -------------------------------------- - 80.0/82.2 MB 13.9 MB/s eta 0:00:01\n",
      "   ---------------------------------------- 82.2/82.2 MB 13.9 MB/s eta 0:00:00\n",
      "Downloading tbb-2022.2.0-py3-none-win_amd64.whl (420 kB)\n",
      "Downloading tcmlib-1.4.0-py2.py3-none-win_amd64.whl (370 kB)\n",
      "Installing collected packages: tcmlib, tbb, daal, scikit-learn-intelex\n",
      "Successfully installed daal-2025.8.0 scikit-learn-intelex-2025.8.0 tbb-2022.2.0 tcmlib-1.4.0\n"
     ]
    }
   ],
   "source": [
    "!pip install scikit-learn-intelex\n"
   ]
  },
  {
   "cell_type": "code",
   "execution_count": null,
   "id": "6dcc9b51",
   "metadata": {},
   "outputs": [],
   "source": []
  },
  {
   "cell_type": "code",
   "execution_count": null,
   "id": "0748b368",
   "metadata": {},
   "outputs": [],
   "source": []
  }
 ],
 "metadata": {
  "kernelspec": {
   "display_name": "base",
   "language": "python",
   "name": "python3"
  },
  "language_info": {
   "codemirror_mode": {
    "name": "ipython",
    "version": 3
   },
   "file_extension": ".py",
   "mimetype": "text/x-python",
   "name": "python",
   "nbconvert_exporter": "python",
   "pygments_lexer": "ipython3",
   "version": "3.12.7"
  }
 },
 "nbformat": 4,
 "nbformat_minor": 5
}
